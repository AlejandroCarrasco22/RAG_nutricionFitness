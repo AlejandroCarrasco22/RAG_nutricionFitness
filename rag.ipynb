{
 "cells": [
  {
   "cell_type": "code",
   "execution_count": 2,
   "metadata": {},
   "outputs": [],
   "source": [
    "# !pip install fastembed langchain langchain_community PyMuPDF chromadb"
   ]
  },
  {
   "cell_type": "markdown",
   "metadata": {},
   "source": [
    "## Ollama form langchain"
   ]
  },
  {
   "cell_type": "code",
   "execution_count": 10,
   "metadata": {},
   "outputs": [
    {
     "name": "stderr",
     "output_type": "stream",
     "text": [
      "C:\\Users\\asusg\\AppData\\Local\\Temp\\ipykernel_19340\\1440260240.py:3: LangChainDeprecationWarning: The class `Ollama` was deprecated in LangChain 0.3.1 and will be removed in 1.0.0. An updated version of the class exists in the :class:`~langchain-ollama package and should be used instead. To use it run `pip install -U :class:`~langchain-ollama` and import as `from :class:`~langchain_ollama import OllamaLLM``.\n",
      "  llm = Ollama(model=\"llama3.2\")\n"
     ]
    },
    {
     "data": {
      "text/plain": [
       "'¡Hola! Me alegra conocerte. Soy un modelo de lenguaje artificial llamado Llama. Llama significa \"Meta AI de modelo de lenguaje grande\" y es una abreviatura de \"Large Language Model\". Soy un modelo de lenguaje entrenado para entender y generar texto, lo que me permite responder a preguntas y tener conversaciones con usuarios como tú.\\n\\nNo tengo una identidad personal en el sentido tradicional, pero estoy diseñado para ser útil y amigable. Mi objetivo es ayudarte con cualquier pregunta o tema que desees discutir. ¿En qué puedo ayudarte hoy?'"
      ]
     },
     "execution_count": 10,
     "metadata": {},
     "output_type": "execute_result"
    }
   ],
   "source": [
    "\n",
    "from langchain_community.llms import Ollama\n",
    "\n",
    "llm = Ollama(model=\"llama3.2\")\n",
    "\n",
    "llm.invoke(\"Hola, quien eres?\")"
   ]
  },
  {
   "cell_type": "markdown",
   "metadata": {},
   "source": [
    "# RAG"
   ]
  },
  {
   "cell_type": "markdown",
   "metadata": {},
   "source": [
    "### Load Document"
   ]
  },
  {
   "cell_type": "code",
   "execution_count": null,
   "metadata": {},
   "outputs": [
    {
     "name": "stdout",
     "output_type": "stream",
     "text": [
      "[WindowsPath('data/EfectosDeLaSuplementacionConCreatinaMonohidratada.pdf'), WindowsPath('data/NutricionSuplementacionEHidratacionEnElAmbitoDep.pdf')]\n",
      "Se cargaron 25 páginas de PDFs.\n"
     ]
    },
    {
     "data": {
      "text/plain": [
       "Document(metadata={'producer': 'Microsoft® Word 2019', 'creator': 'Microsoft® Word 2019', 'creationdate': '2024-11-14T20:01:34+01:00', 'source': 'data\\\\EfectosDeLaSuplementacionConCreatinaMonohidratada.pdf', 'file_path': 'data\\\\EfectosDeLaSuplementacionConCreatinaMonohidratada.pdf', 'total_pages': 8, 'format': 'PDF 1.7', 'title': '', 'author': 'Framcisco Ruiz Juan', 'subject': '', 'keywords': '', 'moddate': '2024-11-14T20:01:34+01:00', 'trapped': '', 'modDate': \"D:20241114200134+01'00'\", 'creationDate': \"D:20241114200134+01'00'\", 'page': 0}, page_content='2025, Retos, 62, 958-965 \\n© Copyright: Federación Española de Asociaciones de Docentes de Educación Física (FEADEF) ISSN: Edición impresa: 1579-1726. Edición Web: 1988-2041 (https://recyt.fecyt.es/in-\\ndex.php/retos/index) \\n-958-                                                                                                                                                                                                              Retos, número 62, 2025 (enero)     \\nEfectos de la suplementación con creatina monohidratada en la masa muscular y rendimiento físico en \\nadultos jóvenes entrenados: una revisión sistemática \\nEffects of creatine monohydrate supplementation on muscle mass and physical performance in trained young adults: a \\nsystematic review \\nBastián Parada-Flores*-**, Luis Valenzuela Contreras***, Scarlet Aldana-Lara**, Valentina Salgado-Abasolo**, Cristian Martínez \\nSalazar****, Jorge Flández Valderrama*****, Carol Flores-Rivera******, Pablo Felipe Luna-Villouta*******, Rodrigo Vargas \\nVitoria* \\n*Universidad Católica del Maule (Chile), **Universidad Santo Tomás (Chile), ***Universidad Católica Silva Henríquez (Chile), \\n****Universidad de la Frontera (Chile), *****Universidad Austral de Chile (Chile), ******Universidad Andres Bello (Chile), \\n*******Universidad de Concepción (Chile) \\n \\nResumen. El objetivo de esta revisión fue analizar los efectos de la suplementación con creatina monohidratada (CrM) en la masa \\nmuscular (MM) y rendimiento físico en adultos jóvenes entrenados, a través de la evidencia disponible. Se efectuó una revisión siste-\\nmática, basada en protocolo PRISMA 2020, utilizando las bases de datos PubMed y Google Scholar. Se incluyeron ensayos clínicos \\npublicados durante 2010-2023 en idioma español, inglés o portugués. Se encontraron 87 estudios, 7 aprobaron los criterios de inclu-\\nsión. Estas investigaciones reportan efectos significativos de la ingesta de CrM en la MM, fuerza muscular (FM) y potencia muscular de \\nadultos jóvenes entrenados, a corto y mediano plazo. Concluimos que la suplementación con CrM es efectiva en la mejora de la com-\\nposición muscular y el rendimiento físico de adultos jóvenes entrenados. Igualmente, el momento de la ingesta es importante, con \\nmejores resultados al ingerirla post entrenamiento. Asimismo, las cantidades sugeridas corresponden a 0.1g x kg x día o bien, 5g \\ndiarios, con efectos significativos con ambas dosis. \\nPalabras clave: Ejercicio físico, Potencia muscular, Hipertrofia muscular, Atrofia muscular. \\n \\nAbstract. The aim of this review was to analyze the effects of creatine monohydrate (CrM) supplementation on muscle mass (MM) \\nand physical performance in trained young adults, using the available evidence. The systematic review was conducted, based on the \\nPRISMA 2020 protocol, using the PubMed and Google Scholar databases. Clinical trials published during 2010-2023 in Spanish, English \\nor Portuguese were included. 87 studies were found and 7 approved of the inclusion criteria. Significant effects of CrM intake on MM, \\nmuscle strength (FM) and muscle power in trained young adults were reported, in the short and medium term. We conclude that CrM \\nsupplementation is effective in improving muscle composition and physical performance in trained young adults. In addition, the mo-\\nment of intake is important, with better results when ingested after training. Also, the suggested amounts correspond to 0.1g x kg x \\nday or 5g daily, with significant effects with both doses. \\nKeywords: Physical exercise; Muscle power; Muscle hypertrophy; Muscle atrophy. \\n \\nFecha recepción: 21-10-24. Fecha de aceptación: 10-11-24 \\nRodrigo Vargas Vitoria  \\nrvargas@ucm.cl  \\n \\nIntroducción \\n \\nLa creatina (Cr) es un compuesto orgánico nitrogenado \\nque se sintetiza de manera natural en el hígado, páncreas y \\nriñones, a partir de aminoácidos como la metionina, argi-\\nnina y glicina (Wyss & Kaddurah-Daouk, 2000), además \\npuede obtenerse desde la ingesta de alimentos, principal-\\nmente carnes (Ataídes, Neto & dos Santos, 2022). Se estima \\nque un 95% de la reserva orgánica de la Cr se almacena en \\nel músculo esquelético en su forma fosforilada, denominada \\nfosfocreatina (CrP), siendo el principal sustrato energético \\npara la regeneración de ATP en ejercicios de alta intensidad \\ny corta duración (Burgos, 2017). \\nSu utilización en el ámbito del ejercicio físico (EF) se \\nfortalece cuando comienza a ser sintetizada de manera arti-\\nficial, siendo comercializada habitualmente como creatina \\nmonohidratada (CrM), una fuente biodisponible y estable \\nen comparación a su estado puro (Sestili et al., 2011). Asi-\\nmismo, en la industria del deporte se considera una ayuda \\nergogénica en actividades de mayor esfuerzo, principal-\\nmente donde predomina el sistema energético Cr/CrP \\n(Hall, Manetta & Tupper, 2021). De acuerdo con la litera-\\ntura, la suplementación con CrM favorece la recuperación \\nentre series durante el EF intenso, siendo una estrategia \\nefectiva para aumentar el contenido muscular ((Anugrah et \\nal., 2024; De Faria, 2018; Jurado-Castro et al., 2021). Se-\\ngún Hall et al. (2021), este suplemento provee efectos er-\\ngogénicos que contribuyen al aumento de la fuerza muscu-\\nlar (FM), la masa magra y la función muscular; a lo que se \\nsuman beneficios neurológicos (Forbes et al., 2022). Asi-\\nmismo, estudios (Burke et al., 2023; Fernández-Landa et \\nal., 2019) reportan sus beneficios de la ingesta de CrM en \\nla hipertrofia muscular durante el desarrollo de un entrena-\\nmiento de fuerza, en personas de distintas edades, tras ser \\ningerida por sí sola (Burke et al., 2023) y al combinarse con \\notros suplementos, como el β-hidroxi β-metilbutirato \\n(HMB) (Fernández-Landa et al., 2019); mientras que tam-\\nbién se han reportado efectos favorables sobre el rendi-\\nmiento deportivo de jugadores de fútbol (Mielgo-Ayuso et \\nal., 2019). Por lo anterior, existe un consenso científico de \\nque la CrM puede ser eficaz en personas de diferentes eda-\\ndes que realizan un programa de entrenamiento, así como \\nen deportistas de mayor rendimiento; sin embargo, a nues-\\ntro parecer, la evidencia se encuentra aún dispersa y dife-\\nrenciada en cuanto a sus efectos sobre las variables de masa \\nmuscular (MM) y rendimiento, por lo que no existe una re-\\ncopilación organizada, actualizada y específica para la pobla-\\nción de adultos jóvenes entrenados. Cabe destacar, que la')"
      ]
     },
     "execution_count": 2,
     "metadata": {},
     "output_type": "execute_result"
    }
   ],
   "source": [
    "from langchain_community.document_loaders import PyMuPDFLoader\n",
    "from pathlib import Path\n",
    "\n",
    "data_folder = Path(\"data\")\n",
    "\n",
    "pdf_paths = list(data_folder.glob(\"*.pdf\"))\n",
    "data_pdf = []\n",
    "\n",
    "print(pdf_paths)\n",
    "for path in pdf_paths:\n",
    "    loader = PyMuPDFLoader(path)\n",
    "    data_pdf.extend(loader.load())  # Une todos los documentos\n",
    "\n",
    "print(f\"Se cargaron {len(data_pdf)} páginas de PDFs.\")\n"
   ]
  },
  {
   "cell_type": "code",
   "execution_count": 4,
   "metadata": {},
   "outputs": [],
   "source": [
    "\n",
    "from langchain.text_splitter import RecursiveCharacterTextSplitter\n",
    "\n",
    "text_splitter = RecursiveCharacterTextSplitter(chunk_size=2000, chunk_overlap=500)\n",
    "docs = text_splitter.split_documents(data_pdf)"
   ]
  },
  {
   "cell_type": "code",
   "execution_count": 5,
   "metadata": {},
   "outputs": [
    {
     "name": "stderr",
     "output_type": "stream",
     "text": [
      "c:\\ESTUDIOS\\UDIT\\TFM\\RAG_implementation\\.venv\\lib\\site-packages\\tqdm\\auto.py:21: TqdmWarning: IProgress not found. Please update jupyter and ipywidgets. See https://ipywidgets.readthedocs.io/en/stable/user_install.html\n",
      "  from .autonotebook import tqdm as notebook_tqdm\n",
      "Fetching 5 files:   0%|          | 0/5 [00:00<?, ?it/s]c:\\ESTUDIOS\\UDIT\\TFM\\RAG_implementation\\.venv\\lib\\site-packages\\huggingface_hub\\file_download.py:144: UserWarning: `huggingface_hub` cache-system uses symlinks by default to efficiently store duplicated files but your machine does not support them in C:\\Users\\asusg\\AppData\\Local\\Temp\\fastembed_cache\\models--qdrant--all-MiniLM-L6-v2-onnx. Caching files will still work but in a degraded version that might require more space on your disk. This warning can be disabled by setting the `HF_HUB_DISABLE_SYMLINKS_WARNING` environment variable. For more details, see https://huggingface.co/docs/huggingface_hub/how-to-cache#limitations.\n",
      "To support symlinks on Windows, you either need to activate Developer Mode or to run Python as an administrator. In order to activate developer mode, see this article: https://docs.microsoft.com/en-us/windows/apps/get-started/enable-your-device-for-development\n",
      "  warnings.warn(message)\n",
      "Fetching 5 files: 100%|██████████| 5/5 [00:02<00:00,  2.14it/s]\n"
     ]
    }
   ],
   "source": [
    "\n",
    "from langchain_community.embeddings.fastembed import FastEmbedEmbeddings\n",
    "\n",
    "embed_model = FastEmbedEmbeddings(model_name=\"sentence-transformers/all-MiniLM-L6-v2\")"
   ]
  },
  {
   "cell_type": "code",
   "execution_count": 6,
   "metadata": {},
   "outputs": [],
   "source": [
    "from langchain_community.vectorstores import Chroma\n",
    "\n",
    "vs = Chroma.from_documents(\n",
    "    documents=docs,\n",
    "    embedding=embed_model,\n",
    "    persist_directory=\"chroma_db_dir\",  # Local mode with in-memory storage only\n",
    "    collection_name=\"stanford_report_data\"\n",
    ")"
   ]
  },
  {
   "cell_type": "code",
   "execution_count": 7,
   "metadata": {},
   "outputs": [
    {
     "name": "stderr",
     "output_type": "stream",
     "text": [
      "C:\\Users\\asusg\\AppData\\Local\\Temp\\ipykernel_19340\\2007608580.py:1: LangChainDeprecationWarning: The class `Chroma` was deprecated in LangChain 0.2.9 and will be removed in 1.0. An updated version of the class exists in the :class:`~langchain-chroma package and should be used instead. To use it run `pip install -U :class:`~langchain-chroma` and import as `from :class:`~langchain_chroma import Chroma``.\n",
      "  vectorstore = Chroma(embedding_function=embed_model,\n"
     ]
    }
   ],
   "source": [
    "vectorstore = Chroma(embedding_function=embed_model,\n",
    "                     persist_directory=\"chroma_db_dir\",\n",
    "                     collection_name=\"stanford_report_data\")\n",
    "retriever=vectorstore.as_retriever(search_kwargs={'k': 5})"
   ]
  },
  {
   "cell_type": "code",
   "execution_count": 8,
   "metadata": {},
   "outputs": [],
   "source": [
    "\n",
    "from langchain.prompts import PromptTemplate\n",
    "\n",
    "custom_prompt_template = \"\"\"Usa la siguiente información para responder a la pregunta del usuario.\n",
    "Si no sabes la respuesta, simplemente di que no lo sabes, no intentes inventar una respuesta.\n",
    "\n",
    "Contexto: {context}\n",
    "Pregunta: {question}\n",
    "\n",
    "Solo devuelve la respuesta útil a continuación y nada más y responde siempre en español\n",
    "Respuesta útil:\n",
    "\"\"\"\n",
    "prompt = PromptTemplate(template=custom_prompt_template,\n",
    "                        input_variables=['context', 'question'])"
   ]
  },
  {
   "cell_type": "code",
   "execution_count": 11,
   "metadata": {},
   "outputs": [],
   "source": [
    "from langchain.chains import RetrievalQA\n",
    "\n",
    "qa = RetrievalQA.from_chain_type(llm=llm,\n",
    "                                 chain_type=\"stuff\",\n",
    "                                 retriever=retriever,\n",
    "                                 return_source_documents=True,\n",
    "                                 chain_type_kwargs={\"prompt\": prompt})"
   ]
  },
  {
   "cell_type": "code",
   "execution_count": 14,
   "metadata": {},
   "outputs": [
    {
     "name": "stdout",
     "output_type": "stream",
     "text": [
      "La suplementación con creatina monohidrata (CrM) es más importante para la mejora muscular que otros suplementos, ya que ha demostrado ser efectiva en mejorar la composición muscular, fuerza muscular y potencia muscular en adultos jóvenes entrenados. La ingesta de CrM puede ayudar a aumentar la cantidad de fosfocreatina en el cuerpo, lo que permite a los músculos realizar más contracciones con mayor intensidad y duración, lo cual es beneficioso para mejorar el rendimiento físico. Además, la suplementación con CrM no tiene efectos adversos significativos y se puede consumir de manera segura y eficaz.\n"
     ]
    }
   ],
   "source": [
    "response = qa({\"query\": \"¿Que suplementación es más importante para la mejora muscular?¿Por qué?\"})\n",
    "print(response['result'])"
   ]
  }
 ],
 "metadata": {
  "kernelspec": {
   "display_name": ".venv",
   "language": "python",
   "name": "python3"
  },
  "language_info": {
   "codemirror_mode": {
    "name": "ipython",
    "version": 3
   },
   "file_extension": ".py",
   "mimetype": "text/x-python",
   "name": "python",
   "nbconvert_exporter": "python",
   "pygments_lexer": "ipython3",
   "version": "3.10.11"
  }
 },
 "nbformat": 4,
 "nbformat_minor": 2
}
